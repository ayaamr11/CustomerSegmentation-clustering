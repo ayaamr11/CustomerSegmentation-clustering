{
  "nbformat": 4,
  "nbformat_minor": 0,
  "metadata": {
    "colab": {
      "name": "CustomerSegmentation-clustering.ipynb",
      "provenance": [],
      "collapsed_sections": [
        "DbR8zmU8seLT"
      ],
      "authorship_tag": "ABX9TyN75+ooI7B+zxjSPfjgbkZK",
      "include_colab_link": true
    },
    "kernelspec": {
      "name": "python3",
      "display_name": "Python 3"
    },
    "language_info": {
      "name": "python"
    }
  },
  "cells": [
    {
      "cell_type": "markdown",
      "metadata": {
        "id": "view-in-github",
        "colab_type": "text"
      },
      "source": [
        "<a href=\"https://colab.research.google.com/github/ayaamr11/CustomerSegmentation-clustering/blob/main/CustomerSegmentation_clustering.ipynb\" target=\"_parent\"><img src=\"https://colab.research.google.com/assets/colab-badge.svg\" alt=\"Open In Colab\"/></a>"
      ]
    },
    {
      "cell_type": "markdown",
      "source": [
        "# About Dataset\n",
        "\n"
      ],
      "metadata": {
        "id": "yUDxcZTFidVF"
      }
    },
    {
      "cell_type": "markdown",
      "source": [
        "This case requires to develop a customer segmentation to define marketing strategy. The\n",
        "sample Dataset summarizes the usage behavior of about 9000 active credit card holders during the last 6 months. The file is at a customer level with 18 behavioral variables.\n",
        "\n",
        "Following is the Data Dictionary for Credit Card dataset :-\n",
        "\n",
        "* **CUSTID** : Identification of Credit Card holder (Categorical)\n",
        "\n",
        "* **BALANCE** : Balance amount left in their account to make purchases (\n",
        "* **BALANCEFREQUENCY** : How frequently the Balance is updated, score between 0  and 1 (1 = frequently updated, 0 = not frequently updated)\n",
        "* **PURCHASES** : Amount of purchases made from account\n",
        "* **ONEOFFPURCHASES** : Maximum purchase amount done in one-go\n",
        "* **INSTALLMENTSPURCHASES** : Amount of purchase done in installment\n",
        "* **CASHADVANCE** : Cash in advance given by the user\n",
        "* **PURCHASESFREQUENCY** : How frequently the Purchases are being made, score between 0 and 1 (1 = frequently purchased, 0 = not frequently purchased)\n",
        "* **ONEOFFPURCHASESFREQUENCY** : How frequently Purchases are happening in one-go (1 = frequently purchased, 0 = not frequently purchased)\n",
        "* **PURCHASESINSTALLMENTSFREQUENCY** : How frequently purchases in installments are being done (1 = frequently done, 0 = not frequently done)\n",
        "* **CASHADVANCEFREQUENCY** : How frequently the cash in advance being paid\n",
        "* **CASHADVANCETRX** : Number of Transactions made with \"Cash in Advanced\"\n",
        "* **PURCHASESTRX** : Numbe of purchase transactions made\n",
        "* **CREDITLIMIT** : Limit of Credit Card for user\n",
        "* **PAYMENTS** : Amount of Payment done by user\n",
        "* **MINIMUM_PAYMENTS** : Minimum amount of payments made by user\n",
        "* **PRCFULLPAYMENT** : Percent of full payment paid by user\n",
        "* **TENURE** : Tenure of credit card service for user"
      ],
      "metadata": {
        "id": "lFUpX_2Gi_kX"
      }
    },
    {
      "cell_type": "markdown",
      "source": [
        "# Imports"
      ],
      "metadata": {
        "id": "4VnOXWCpL1wT"
      }
    },
    {
      "cell_type": "code",
      "source": [
        "import pandas as pd\n",
        "import numpy as np\n",
        "\n",
        "from sklearn.preprocessing import StandardScaler\n",
        "from sklearn.decomposition import PCA\n",
        "\n",
        "import matplotlib.pyplot as plt\n",
        "import seaborn as sns\n",
        "\n",
        "from sklearn.cluster import DBSCAN\n",
        "from sklearn.cluster import KMeans\n",
        "from sklearn.mixture import GaussianMixture\n",
        "from sklearn.metrics import silhouette_score\n",
        "\n",
        "from sklearn.model_selection import GridSearchCV\n",
        "from sklearn.metrics import silhouette_score\n",
        "from sklearn.cluster import AgglomerativeClustering\n",
        "\n",
        "from sklearn.neighbors import NearestNeighbors\n",
        "from matplotlib import pyplot as plt"
      ],
      "metadata": {
        "id": "579ZSOnplZdg"
      },
      "execution_count": 1,
      "outputs": []
    },
    {
      "cell_type": "markdown",
      "source": [
        "# Read dataset"
      ],
      "metadata": {
        "id": "_oe3IZaHZyKt"
      }
    },
    {
      "cell_type": "code",
      "source": [
        "df=pd.read_csv('CC GENERAL.csv')"
      ],
      "metadata": {
        "id": "2sztt2ODZ01l"
      },
      "execution_count": 8,
      "outputs": []
    },
    {
      "cell_type": "markdown",
      "source": [
        "# Exploring data"
      ],
      "metadata": {
        "id": "djuBjuiIkozQ"
      }
    },
    {
      "cell_type": "code",
      "source": [
        "df.info()"
      ],
      "metadata": {
        "colab": {
          "base_uri": "https://localhost:8080/"
        },
        "id": "Xw-7URChlq1G",
        "outputId": "ca98f913-ecda-4246-c692-3cf8fbf912d5"
      },
      "execution_count": 5,
      "outputs": [
        {
          "output_type": "stream",
          "name": "stdout",
          "text": [
            "<class 'pandas.core.frame.DataFrame'>\n",
            "RangeIndex: 8950 entries, 0 to 8949\n",
            "Data columns (total 18 columns):\n",
            " #   Column                            Non-Null Count  Dtype  \n",
            "---  ------                            --------------  -----  \n",
            " 0   CUST_ID                           8950 non-null   object \n",
            " 1   BALANCE                           8950 non-null   float64\n",
            " 2   BALANCE_FREQUENCY                 8950 non-null   float64\n",
            " 3   PURCHASES                         8950 non-null   float64\n",
            " 4   ONEOFF_PURCHASES                  8950 non-null   float64\n",
            " 5   INSTALLMENTS_PURCHASES            8950 non-null   float64\n",
            " 6   CASH_ADVANCE                      8950 non-null   float64\n",
            " 7   PURCHASES_FREQUENCY               8950 non-null   float64\n",
            " 8   ONEOFF_PURCHASES_FREQUENCY        8950 non-null   float64\n",
            " 9   PURCHASES_INSTALLMENTS_FREQUENCY  8950 non-null   float64\n",
            " 10  CASH_ADVANCE_FREQUENCY            8950 non-null   float64\n",
            " 11  CASH_ADVANCE_TRX                  8950 non-null   int64  \n",
            " 12  PURCHASES_TRX                     8950 non-null   int64  \n",
            " 13  CREDIT_LIMIT                      8949 non-null   float64\n",
            " 14  PAYMENTS                          8950 non-null   float64\n",
            " 15  MINIMUM_PAYMENTS                  8637 non-null   float64\n",
            " 16  PRC_FULL_PAYMENT                  8950 non-null   float64\n",
            " 17  TENURE                            8950 non-null   int64  \n",
            "dtypes: float64(14), int64(3), object(1)\n",
            "memory usage: 1.2+ MB\n"
          ]
        }
      ]
    },
    {
      "cell_type": "markdown",
      "source": [
        "- Check null values in each column."
      ],
      "metadata": {
        "id": "Ex9iQUD5aaHV"
      }
    },
    {
      "cell_type": "code",
      "source": [
        "round(df.isnull().sum(axis=0)*100/df.shape[0],2)"
      ],
      "metadata": {
        "id": "uPrcDpZ1aM2P",
        "outputId": "dca17d82-e70b-4545-ece9-2e2cf1133e47",
        "colab": {
          "base_uri": "https://localhost:8080/"
        }
      },
      "execution_count": 9,
      "outputs": [
        {
          "output_type": "execute_result",
          "data": {
            "text/plain": [
              "CUST_ID                             0.00\n",
              "BALANCE                             0.00\n",
              "BALANCE_FREQUENCY                   0.00\n",
              "PURCHASES                           0.00\n",
              "ONEOFF_PURCHASES                    0.00\n",
              "INSTALLMENTS_PURCHASES              0.00\n",
              "CASH_ADVANCE                        0.00\n",
              "PURCHASES_FREQUENCY                 0.00\n",
              "ONEOFF_PURCHASES_FREQUENCY          0.00\n",
              "PURCHASES_INSTALLMENTS_FREQUENCY    0.00\n",
              "CASH_ADVANCE_FREQUENCY              0.00\n",
              "CASH_ADVANCE_TRX                    0.00\n",
              "PURCHASES_TRX                       0.00\n",
              "CREDIT_LIMIT                        0.01\n",
              "PAYMENTS                            0.00\n",
              "MINIMUM_PAYMENTS                    3.50\n",
              "PRC_FULL_PAYMENT                    0.00\n",
              "TENURE                              0.00\n",
              "dtype: float64"
            ]
          },
          "metadata": {},
          "execution_count": 9
        }
      ]
    },
    {
      "cell_type": "markdown",
      "source": [
        "- Check duplicate rows"
      ],
      "metadata": {
        "id": "2Cjx5IpcauYy"
      }
    },
    {
      "cell_type": "code",
      "source": [
        "df.duplicated().sum()"
      ],
      "metadata": {
        "id": "1ShOTVEia1o8"
      },
      "execution_count": null,
      "outputs": []
    },
    {
      "cell_type": "markdown",
      "source": [
        "- Basic statistics for numerical columns."
      ],
      "metadata": {
        "id": "3Amy8uOFbR4P"
      }
    },
    {
      "cell_type": "code",
      "source": [
        "df.describe()"
      ],
      "metadata": {
        "colab": {
          "base_uri": "https://localhost:8080/",
          "height": 364
        },
        "id": "WkNdBt1Gm3Qt",
        "outputId": "7c110e41-cc7a-4f61-922c-98ca8df0a93d"
      },
      "execution_count": 7,
      "outputs": [
        {
          "output_type": "execute_result",
          "data": {
            "text/plain": [
              "            BALANCE  BALANCE_FREQUENCY     PURCHASES  ONEOFF_PURCHASES  \\\n",
              "count   8950.000000        8950.000000   8950.000000       8950.000000   \n",
              "mean    1564.474828           0.877271   1003.204834        592.437371   \n",
              "std     2081.531879           0.236904   2136.634782       1659.887917   \n",
              "min        0.000000           0.000000      0.000000          0.000000   \n",
              "25%      128.281915           0.888889     39.635000          0.000000   \n",
              "50%      873.385231           1.000000    361.280000         38.000000   \n",
              "75%     2054.140036           1.000000   1110.130000        577.405000   \n",
              "max    19043.138560           1.000000  49039.570000      40761.250000   \n",
              "\n",
              "       INSTALLMENTS_PURCHASES  CASH_ADVANCE  PURCHASES_FREQUENCY  \\\n",
              "count             8950.000000   8950.000000          8950.000000   \n",
              "mean               411.067645    978.871112             0.490351   \n",
              "std                904.338115   2097.163877             0.401371   \n",
              "min                  0.000000      0.000000             0.000000   \n",
              "25%                  0.000000      0.000000             0.083333   \n",
              "50%                 89.000000      0.000000             0.500000   \n",
              "75%                468.637500   1113.821139             0.916667   \n",
              "max              22500.000000  47137.211760             1.000000   \n",
              "\n",
              "       ONEOFF_PURCHASES_FREQUENCY  PURCHASES_INSTALLMENTS_FREQUENCY  \\\n",
              "count                 8950.000000                       8950.000000   \n",
              "mean                     0.202458                          0.364437   \n",
              "std                      0.298336                          0.397448   \n",
              "min                      0.000000                          0.000000   \n",
              "25%                      0.000000                          0.000000   \n",
              "50%                      0.083333                          0.166667   \n",
              "75%                      0.300000                          0.750000   \n",
              "max                      1.000000                          1.000000   \n",
              "\n",
              "       CASH_ADVANCE_FREQUENCY  CASH_ADVANCE_TRX  PURCHASES_TRX  CREDIT_LIMIT  \\\n",
              "count             8950.000000       8950.000000    8950.000000   8949.000000   \n",
              "mean                 0.135144          3.248827      14.709832   4494.449450   \n",
              "std                  0.200121          6.824647      24.857649   3638.815725   \n",
              "min                  0.000000          0.000000       0.000000     50.000000   \n",
              "25%                  0.000000          0.000000       1.000000   1600.000000   \n",
              "50%                  0.000000          0.000000       7.000000   3000.000000   \n",
              "75%                  0.222222          4.000000      17.000000   6500.000000   \n",
              "max                  1.500000        123.000000     358.000000  30000.000000   \n",
              "\n",
              "           PAYMENTS  MINIMUM_PAYMENTS  PRC_FULL_PAYMENT       TENURE  \n",
              "count   8950.000000       8637.000000       8950.000000  8950.000000  \n",
              "mean    1733.143852        864.206542          0.153715    11.517318  \n",
              "std     2895.063757       2372.446607          0.292499     1.338331  \n",
              "min        0.000000          0.019163          0.000000     6.000000  \n",
              "25%      383.276166        169.123707          0.000000    12.000000  \n",
              "50%      856.901546        312.343947          0.000000    12.000000  \n",
              "75%     1901.134317        825.485459          0.142857    12.000000  \n",
              "max    50721.483360      76406.207520          1.000000    12.000000  "
            ],
            "text/html": [
              "\n",
              "  <div id=\"df-9acb729a-9d99-48fe-881e-00de88eb897c\">\n",
              "    <div class=\"colab-df-container\">\n",
              "      <div>\n",
              "<style scoped>\n",
              "    .dataframe tbody tr th:only-of-type {\n",
              "        vertical-align: middle;\n",
              "    }\n",
              "\n",
              "    .dataframe tbody tr th {\n",
              "        vertical-align: top;\n",
              "    }\n",
              "\n",
              "    .dataframe thead th {\n",
              "        text-align: right;\n",
              "    }\n",
              "</style>\n",
              "<table border=\"1\" class=\"dataframe\">\n",
              "  <thead>\n",
              "    <tr style=\"text-align: right;\">\n",
              "      <th></th>\n",
              "      <th>BALANCE</th>\n",
              "      <th>BALANCE_FREQUENCY</th>\n",
              "      <th>PURCHASES</th>\n",
              "      <th>ONEOFF_PURCHASES</th>\n",
              "      <th>INSTALLMENTS_PURCHASES</th>\n",
              "      <th>CASH_ADVANCE</th>\n",
              "      <th>PURCHASES_FREQUENCY</th>\n",
              "      <th>ONEOFF_PURCHASES_FREQUENCY</th>\n",
              "      <th>PURCHASES_INSTALLMENTS_FREQUENCY</th>\n",
              "      <th>CASH_ADVANCE_FREQUENCY</th>\n",
              "      <th>CASH_ADVANCE_TRX</th>\n",
              "      <th>PURCHASES_TRX</th>\n",
              "      <th>CREDIT_LIMIT</th>\n",
              "      <th>PAYMENTS</th>\n",
              "      <th>MINIMUM_PAYMENTS</th>\n",
              "      <th>PRC_FULL_PAYMENT</th>\n",
              "      <th>TENURE</th>\n",
              "    </tr>\n",
              "  </thead>\n",
              "  <tbody>\n",
              "    <tr>\n",
              "      <th>count</th>\n",
              "      <td>8950.000000</td>\n",
              "      <td>8950.000000</td>\n",
              "      <td>8950.000000</td>\n",
              "      <td>8950.000000</td>\n",
              "      <td>8950.000000</td>\n",
              "      <td>8950.000000</td>\n",
              "      <td>8950.000000</td>\n",
              "      <td>8950.000000</td>\n",
              "      <td>8950.000000</td>\n",
              "      <td>8950.000000</td>\n",
              "      <td>8950.000000</td>\n",
              "      <td>8950.000000</td>\n",
              "      <td>8949.000000</td>\n",
              "      <td>8950.000000</td>\n",
              "      <td>8637.000000</td>\n",
              "      <td>8950.000000</td>\n",
              "      <td>8950.000000</td>\n",
              "    </tr>\n",
              "    <tr>\n",
              "      <th>mean</th>\n",
              "      <td>1564.474828</td>\n",
              "      <td>0.877271</td>\n",
              "      <td>1003.204834</td>\n",
              "      <td>592.437371</td>\n",
              "      <td>411.067645</td>\n",
              "      <td>978.871112</td>\n",
              "      <td>0.490351</td>\n",
              "      <td>0.202458</td>\n",
              "      <td>0.364437</td>\n",
              "      <td>0.135144</td>\n",
              "      <td>3.248827</td>\n",
              "      <td>14.709832</td>\n",
              "      <td>4494.449450</td>\n",
              "      <td>1733.143852</td>\n",
              "      <td>864.206542</td>\n",
              "      <td>0.153715</td>\n",
              "      <td>11.517318</td>\n",
              "    </tr>\n",
              "    <tr>\n",
              "      <th>std</th>\n",
              "      <td>2081.531879</td>\n",
              "      <td>0.236904</td>\n",
              "      <td>2136.634782</td>\n",
              "      <td>1659.887917</td>\n",
              "      <td>904.338115</td>\n",
              "      <td>2097.163877</td>\n",
              "      <td>0.401371</td>\n",
              "      <td>0.298336</td>\n",
              "      <td>0.397448</td>\n",
              "      <td>0.200121</td>\n",
              "      <td>6.824647</td>\n",
              "      <td>24.857649</td>\n",
              "      <td>3638.815725</td>\n",
              "      <td>2895.063757</td>\n",
              "      <td>2372.446607</td>\n",
              "      <td>0.292499</td>\n",
              "      <td>1.338331</td>\n",
              "    </tr>\n",
              "    <tr>\n",
              "      <th>min</th>\n",
              "      <td>0.000000</td>\n",
              "      <td>0.000000</td>\n",
              "      <td>0.000000</td>\n",
              "      <td>0.000000</td>\n",
              "      <td>0.000000</td>\n",
              "      <td>0.000000</td>\n",
              "      <td>0.000000</td>\n",
              "      <td>0.000000</td>\n",
              "      <td>0.000000</td>\n",
              "      <td>0.000000</td>\n",
              "      <td>0.000000</td>\n",
              "      <td>0.000000</td>\n",
              "      <td>50.000000</td>\n",
              "      <td>0.000000</td>\n",
              "      <td>0.019163</td>\n",
              "      <td>0.000000</td>\n",
              "      <td>6.000000</td>\n",
              "    </tr>\n",
              "    <tr>\n",
              "      <th>25%</th>\n",
              "      <td>128.281915</td>\n",
              "      <td>0.888889</td>\n",
              "      <td>39.635000</td>\n",
              "      <td>0.000000</td>\n",
              "      <td>0.000000</td>\n",
              "      <td>0.000000</td>\n",
              "      <td>0.083333</td>\n",
              "      <td>0.000000</td>\n",
              "      <td>0.000000</td>\n",
              "      <td>0.000000</td>\n",
              "      <td>0.000000</td>\n",
              "      <td>1.000000</td>\n",
              "      <td>1600.000000</td>\n",
              "      <td>383.276166</td>\n",
              "      <td>169.123707</td>\n",
              "      <td>0.000000</td>\n",
              "      <td>12.000000</td>\n",
              "    </tr>\n",
              "    <tr>\n",
              "      <th>50%</th>\n",
              "      <td>873.385231</td>\n",
              "      <td>1.000000</td>\n",
              "      <td>361.280000</td>\n",
              "      <td>38.000000</td>\n",
              "      <td>89.000000</td>\n",
              "      <td>0.000000</td>\n",
              "      <td>0.500000</td>\n",
              "      <td>0.083333</td>\n",
              "      <td>0.166667</td>\n",
              "      <td>0.000000</td>\n",
              "      <td>0.000000</td>\n",
              "      <td>7.000000</td>\n",
              "      <td>3000.000000</td>\n",
              "      <td>856.901546</td>\n",
              "      <td>312.343947</td>\n",
              "      <td>0.000000</td>\n",
              "      <td>12.000000</td>\n",
              "    </tr>\n",
              "    <tr>\n",
              "      <th>75%</th>\n",
              "      <td>2054.140036</td>\n",
              "      <td>1.000000</td>\n",
              "      <td>1110.130000</td>\n",
              "      <td>577.405000</td>\n",
              "      <td>468.637500</td>\n",
              "      <td>1113.821139</td>\n",
              "      <td>0.916667</td>\n",
              "      <td>0.300000</td>\n",
              "      <td>0.750000</td>\n",
              "      <td>0.222222</td>\n",
              "      <td>4.000000</td>\n",
              "      <td>17.000000</td>\n",
              "      <td>6500.000000</td>\n",
              "      <td>1901.134317</td>\n",
              "      <td>825.485459</td>\n",
              "      <td>0.142857</td>\n",
              "      <td>12.000000</td>\n",
              "    </tr>\n",
              "    <tr>\n",
              "      <th>max</th>\n",
              "      <td>19043.138560</td>\n",
              "      <td>1.000000</td>\n",
              "      <td>49039.570000</td>\n",
              "      <td>40761.250000</td>\n",
              "      <td>22500.000000</td>\n",
              "      <td>47137.211760</td>\n",
              "      <td>1.000000</td>\n",
              "      <td>1.000000</td>\n",
              "      <td>1.000000</td>\n",
              "      <td>1.500000</td>\n",
              "      <td>123.000000</td>\n",
              "      <td>358.000000</td>\n",
              "      <td>30000.000000</td>\n",
              "      <td>50721.483360</td>\n",
              "      <td>76406.207520</td>\n",
              "      <td>1.000000</td>\n",
              "      <td>12.000000</td>\n",
              "    </tr>\n",
              "  </tbody>\n",
              "</table>\n",
              "</div>\n",
              "      <button class=\"colab-df-convert\" onclick=\"convertToInteractive('df-9acb729a-9d99-48fe-881e-00de88eb897c')\"\n",
              "              title=\"Convert this dataframe to an interactive table.\"\n",
              "              style=\"display:none;\">\n",
              "        \n",
              "  <svg xmlns=\"http://www.w3.org/2000/svg\" height=\"24px\"viewBox=\"0 0 24 24\"\n",
              "       width=\"24px\">\n",
              "    <path d=\"M0 0h24v24H0V0z\" fill=\"none\"/>\n",
              "    <path d=\"M18.56 5.44l.94 2.06.94-2.06 2.06-.94-2.06-.94-.94-2.06-.94 2.06-2.06.94zm-11 1L8.5 8.5l.94-2.06 2.06-.94-2.06-.94L8.5 2.5l-.94 2.06-2.06.94zm10 10l.94 2.06.94-2.06 2.06-.94-2.06-.94-.94-2.06-.94 2.06-2.06.94z\"/><path d=\"M17.41 7.96l-1.37-1.37c-.4-.4-.92-.59-1.43-.59-.52 0-1.04.2-1.43.59L10.3 9.45l-7.72 7.72c-.78.78-.78 2.05 0 2.83L4 21.41c.39.39.9.59 1.41.59.51 0 1.02-.2 1.41-.59l7.78-7.78 2.81-2.81c.8-.78.8-2.07 0-2.86zM5.41 20L4 18.59l7.72-7.72 1.47 1.35L5.41 20z\"/>\n",
              "  </svg>\n",
              "      </button>\n",
              "      \n",
              "  <style>\n",
              "    .colab-df-container {\n",
              "      display:flex;\n",
              "      flex-wrap:wrap;\n",
              "      gap: 12px;\n",
              "    }\n",
              "\n",
              "    .colab-df-convert {\n",
              "      background-color: #E8F0FE;\n",
              "      border: none;\n",
              "      border-radius: 50%;\n",
              "      cursor: pointer;\n",
              "      display: none;\n",
              "      fill: #1967D2;\n",
              "      height: 32px;\n",
              "      padding: 0 0 0 0;\n",
              "      width: 32px;\n",
              "    }\n",
              "\n",
              "    .colab-df-convert:hover {\n",
              "      background-color: #E2EBFA;\n",
              "      box-shadow: 0px 1px 2px rgba(60, 64, 67, 0.3), 0px 1px 3px 1px rgba(60, 64, 67, 0.15);\n",
              "      fill: #174EA6;\n",
              "    }\n",
              "\n",
              "    [theme=dark] .colab-df-convert {\n",
              "      background-color: #3B4455;\n",
              "      fill: #D2E3FC;\n",
              "    }\n",
              "\n",
              "    [theme=dark] .colab-df-convert:hover {\n",
              "      background-color: #434B5C;\n",
              "      box-shadow: 0px 1px 3px 1px rgba(0, 0, 0, 0.15);\n",
              "      filter: drop-shadow(0px 1px 2px rgba(0, 0, 0, 0.3));\n",
              "      fill: #FFFFFF;\n",
              "    }\n",
              "  </style>\n",
              "\n",
              "      <script>\n",
              "        const buttonEl =\n",
              "          document.querySelector('#df-9acb729a-9d99-48fe-881e-00de88eb897c button.colab-df-convert');\n",
              "        buttonEl.style.display =\n",
              "          google.colab.kernel.accessAllowed ? 'block' : 'none';\n",
              "\n",
              "        async function convertToInteractive(key) {\n",
              "          const element = document.querySelector('#df-9acb729a-9d99-48fe-881e-00de88eb897c');\n",
              "          const dataTable =\n",
              "            await google.colab.kernel.invokeFunction('convertToInteractive',\n",
              "                                                     [key], {});\n",
              "          if (!dataTable) return;\n",
              "\n",
              "          const docLinkHtml = 'Like what you see? Visit the ' +\n",
              "            '<a target=\"_blank\" href=https://colab.research.google.com/notebooks/data_table.ipynb>data table notebook</a>'\n",
              "            + ' to learn more about interactive tables.';\n",
              "          element.innerHTML = '';\n",
              "          dataTable['output_type'] = 'display_data';\n",
              "          await google.colab.output.renderOutput(dataTable, element);\n",
              "          const docLink = document.createElement('div');\n",
              "          docLink.innerHTML = docLinkHtml;\n",
              "          element.appendChild(docLink);\n",
              "        }\n",
              "      </script>\n",
              "    </div>\n",
              "  </div>\n",
              "  "
            ]
          },
          "metadata": {},
          "execution_count": 7
        }
      ]
    },
    {
      "cell_type": "markdown",
      "source": [
        "- outliers"
      ],
      "metadata": {
        "id": "2I1FIxgHa61U"
      }
    },
    {
      "cell_type": "markdown",
      "source": [
        "\n",
        "- distribution for each column (skewness)"
      ],
      "metadata": {
        "id": "U7vKUacia_7X"
      }
    },
    {
      "cell_type": "code",
      "source": [
        "numerical_features=[feature for feature in df.columns if df[feature].dtypes!='object']\n",
        "\n",
        "df[numerical_features].hist(bins=15, figsize=(20, 20), layout=(6, 3));"
      ],
      "metadata": {
        "id": "gQEDLPwCbrxI",
        "outputId": "c7f380b2-1ea6-49b1-cae6-3fa3d0640abb",
        "colab": {
          "base_uri": "https://localhost:8080/",
          "height": 1000
        }
      },
      "execution_count": 10,
      "outputs": [
        {
          "output_type": "display_data",
          "data": {
            "text/plain": [
              "<Figure size 1440x1440 with 18 Axes>"
            ],
            "image/png": "[encoded data removed]"
          },
          "metadata": {
            "needs_background": "light"
          }
        }
      ]
    },
    {
      "cell_type": "markdown",
      "source": [
        "##preprocessing data "
      ],
      "metadata": {
        "id": "flobKkxwnPMr"
      }
    },
    {
      "cell_type": "code",
      "source": [
        "#remove nulls\n",
        "df.dropna(axis=0,inplace=True)"
      ],
      "metadata": {
        "id": "ehfdTbhJnvPl"
      },
      "execution_count": null,
      "outputs": []
    },
    {
      "cell_type": "code",
      "source": [
        "df.info()"
      ],
      "metadata": {
        "colab": {
          "base_uri": "https://localhost:8080/"
        },
        "id": "iXhUukgtnZC1",
        "outputId": "27ac5bf6-43e5-4516-d328-6f335431feb2"
      },
      "execution_count": null,
      "outputs": [
        {
          "output_type": "stream",
          "name": "stdout",
          "text": [
            "<class 'pandas.core.frame.DataFrame'>\n",
            "Int64Index: 8636 entries, 0 to 8949\n",
            "Data columns (total 18 columns):\n",
            " #   Column                            Non-Null Count  Dtype  \n",
            "---  ------                            --------------  -----  \n",
            " 0   CUST_ID                           8636 non-null   object \n",
            " 1   BALANCE                           8636 non-null   float64\n",
            " 2   BALANCE_FREQUENCY                 8636 non-null   float64\n",
            " 3   PURCHASES                         8636 non-null   float64\n",
            " 4   ONEOFF_PURCHASES                  8636 non-null   float64\n",
            " 5   INSTALLMENTS_PURCHASES            8636 non-null   float64\n",
            " 6   CASH_ADVANCE                      8636 non-null   float64\n",
            " 7   PURCHASES_FREQUENCY               8636 non-null   float64\n",
            " 8   ONEOFF_PURCHASES_FREQUENCY        8636 non-null   float64\n",
            " 9   PURCHASES_INSTALLMENTS_FREQUENCY  8636 non-null   float64\n",
            " 10  CASH_ADVANCE_FREQUENCY            8636 non-null   float64\n",
            " 11  CASH_ADVANCE_TRX                  8636 non-null   int64  \n",
            " 12  PURCHASES_TRX                     8636 non-null   int64  \n",
            " 13  CREDIT_LIMIT                      8636 non-null   float64\n",
            " 14  PAYMENTS                          8636 non-null   float64\n",
            " 15  MINIMUM_PAYMENTS                  8636 non-null   float64\n",
            " 16  PRC_FULL_PAYMENT                  8636 non-null   float64\n",
            " 17  TENURE                            8636 non-null   int64  \n",
            "dtypes: float64(14), int64(3), object(1)\n",
            "memory usage: 1.3+ MB\n"
          ]
        }
      ]
    },
    {
      "cell_type": "code",
      "source": [
        "#remove unnecessary columns\n",
        "len(np.unique(df['CUST_ID']))"
      ],
      "metadata": {
        "colab": {
          "base_uri": "https://localhost:8080/"
        },
        "id": "SIGFdtQfofhM",
        "outputId": "e641265d-cc0f-4022-a906-1c2d8880e2f7"
      },
      "execution_count": null,
      "outputs": [
        {
          "output_type": "execute_result",
          "data": {
            "text/plain": [
              "8636"
            ]
          },
          "metadata": {},
          "execution_count": 9
        }
      ]
    },
    {
      "cell_type": "code",
      "source": [
        "df.drop(['CUST_ID'],axis=1,inplace=True)"
      ],
      "metadata": {
        "id": "BNivamiFo1_k"
      },
      "execution_count": null,
      "outputs": []
    },
    {
      "cell_type": "code",
      "source": [
        "df.info()"
      ],
      "metadata": {
        "colab": {
          "base_uri": "https://localhost:8080/"
        },
        "id": "7maVofXKpAtI",
        "outputId": "4cda2ca5-c3f8-40eb-9ccc-cf2288e834a5"
      },
      "execution_count": null,
      "outputs": [
        {
          "output_type": "stream",
          "name": "stdout",
          "text": [
            "<class 'pandas.core.frame.DataFrame'>\n",
            "Int64Index: 8636 entries, 0 to 8949\n",
            "Data columns (total 17 columns):\n",
            " #   Column                            Non-Null Count  Dtype  \n",
            "---  ------                            --------------  -----  \n",
            " 0   BALANCE                           8636 non-null   float64\n",
            " 1   BALANCE_FREQUENCY                 8636 non-null   float64\n",
            " 2   PURCHASES                         8636 non-null   float64\n",
            " 3   ONEOFF_PURCHASES                  8636 non-null   float64\n",
            " 4   INSTALLMENTS_PURCHASES            8636 non-null   float64\n",
            " 5   CASH_ADVANCE                      8636 non-null   float64\n",
            " 6   PURCHASES_FREQUENCY               8636 non-null   float64\n",
            " 7   ONEOFF_PURCHASES_FREQUENCY        8636 non-null   float64\n",
            " 8   PURCHASES_INSTALLMENTS_FREQUENCY  8636 non-null   float64\n",
            " 9   CASH_ADVANCE_FREQUENCY            8636 non-null   float64\n",
            " 10  CASH_ADVANCE_TRX                  8636 non-null   int64  \n",
            " 11  PURCHASES_TRX                     8636 non-null   int64  \n",
            " 12  CREDIT_LIMIT                      8636 non-null   float64\n",
            " 13  PAYMENTS                          8636 non-null   float64\n",
            " 14  MINIMUM_PAYMENTS                  8636 non-null   float64\n",
            " 15  PRC_FULL_PAYMENT                  8636 non-null   float64\n",
            " 16  TENURE                            8636 non-null   int64  \n",
            "dtypes: float64(14), int64(3)\n",
            "memory usage: 1.2 MB\n"
          ]
        }
      ]
    },
    {
      "cell_type": "code",
      "source": [
        "#normalize data\n",
        "scaler = StandardScaler()\n",
        "data_scaled = scaler.fit_transform(df)"
      ],
      "metadata": {
        "id": "jT44vPsBqDrn"
      },
      "execution_count": null,
      "outputs": []
    },
    {
      "cell_type": "code",
      "source": [
        "data_scaled.shape"
      ],
      "metadata": {
        "colab": {
          "base_uri": "https://localhost:8080/"
        },
        "id": "8pFmHM1Mqra7",
        "outputId": "c518712c-9f50-4ba0-884d-33df46de2d91"
      },
      "execution_count": null,
      "outputs": [
        {
          "output_type": "execute_result",
          "data": {
            "text/plain": [
              "(8636, 17)"
            ]
          },
          "metadata": {},
          "execution_count": 13
        }
      ]
    },
    {
      "cell_type": "markdown",
      "source": [
        "##PCA and feature engineering"
      ],
      "metadata": {
        "id": "DbR8zmU8seLT"
      }
    },
    {
      "cell_type": "code",
      "source": [
        "pca = PCA()\n",
        "pca.fit(data_scaled)\n",
        "#pca.explained_variance_ratio_\n",
        "pca.explained_variance_ratio_.cumsum()"
      ],
      "metadata": {
        "colab": {
          "base_uri": "https://localhost:8080/"
        },
        "id": "Zf-9O6okslxi",
        "outputId": "6caecef2-c37f-45f9-fc0e-469759f6887e"
      },
      "execution_count": null,
      "outputs": [
        {
          "output_type": "execute_result",
          "data": {
            "text/plain": [
              "array([0.27231177, 0.47605485, 0.56523818, 0.64097427, 0.70374045,\n",
              "       0.76086831, 0.81003019, 0.85213753, 0.8889545 , 0.91976958,\n",
              "       0.94340762, 0.96115301, 0.97542011, 0.98720671, 0.99728768,\n",
              "       0.99999931, 1.        ])"
            ]
          },
          "metadata": {},
          "execution_count": 14
        }
      ]
    },
    {
      "cell_type": "code",
      "source": [
        "plt.plot(range(1, 18), pca.explained_variance_ratio_.cumsum() , marker='o', linestyle='--')\n",
        "plt.title('PCA Captured Variance')\n",
        "plt.xlabel('# Principal Components')\n",
        "plt.ylabel('Captured Variance')\n",
        "plt.show()"
      ],
      "metadata": {
        "colab": {
          "base_uri": "https://localhost:8080/",
          "height": 295
        },
        "id": "F-nQarvOzzha",
        "outputId": "194951f5-10eb-481a-8067-4108e1d2c87b"
      },
      "execution_count": null,
      "outputs": [
        {
          "output_type": "display_data",
          "data": {
            "text/plain": [
              "<Figure size 432x288 with 1 Axes>"
            ],
            "image/png": "[encoded data removed]"
          },
          "metadata": {
            "needs_background": "light"
          }
        }
      ]
    },
    {
      "cell_type": "code",
      "source": [
        "pca = PCA(n_components=9)\n",
        "transformed_data = pca.fit_transform(data_scaled)"
      ],
      "metadata": {
        "id": "yvZpJZXC6LW2"
      },
      "execution_count": null,
      "outputs": []
    },
    {
      "cell_type": "code",
      "source": [
        "type(pca)"
      ],
      "metadata": {
        "colab": {
          "base_uri": "https://localhost:8080/"
        },
        "id": "waM6TeF79rXi",
        "outputId": "09b429bb-4a99-4de3-9c5e-98fe97ee13ae"
      },
      "execution_count": null,
      "outputs": [
        {
          "output_type": "execute_result",
          "data": {
            "text/plain": [
              "sklearn.decomposition._pca.PCA"
            ]
          },
          "metadata": {},
          "execution_count": 66
        }
      ]
    },
    {
      "cell_type": "code",
      "source": [
        "transformed_data.shape"
      ],
      "metadata": {
        "colab": {
          "base_uri": "https://localhost:8080/"
        },
        "id": "A8fhCc8_6-Ss",
        "outputId": "f79c7173-d855-4700-f72b-e09593a211e0"
      },
      "execution_count": null,
      "outputs": [
        {
          "output_type": "execute_result",
          "data": {
            "text/plain": [
              "(8636, 9)"
            ]
          },
          "metadata": {},
          "execution_count": 18
        }
      ]
    },
    {
      "cell_type": "markdown",
      "source": [
        "#clustering "
      ],
      "metadata": {
        "id": "a8a7gPOc7k-Y"
      }
    },
    {
      "cell_type": "markdown",
      "source": [
        "##K-means"
      ],
      "metadata": {
        "id": "C_CRHff4Dn0t"
      }
    },
    {
      "cell_type": "code",
      "source": [
        "distortions = []\n",
        "K = range(1,16)\n",
        "for k in K:\n",
        "    kmeanModel = KMeans(n_clusters=k)\n",
        "    kmeanModel.fit(transformed_data)\n",
        "    distortions.append(kmeanModel.inertia_)"
      ],
      "metadata": {
        "id": "FlU9rud7b5KI"
      },
      "execution_count": null,
      "outputs": []
    },
    {
      "cell_type": "code",
      "source": [
        "plt.plot(K, distortions, marker = 'o')\n",
        "plt.xlabel('k')\n",
        "plt.ylabel('Distortion')\n",
        "plt.title('The Elbow Method')\n",
        "plt.show()"
      ],
      "metadata": {
        "colab": {
          "base_uri": "https://localhost:8080/",
          "height": 295
        },
        "id": "tS867wt2ELMh",
        "outputId": "8775034b-9da4-4ad9-bb86-8517a55ff63b"
      },
      "execution_count": null,
      "outputs": [
        {
          "output_type": "display_data",
          "data": {
            "text/plain": [
              "<Figure size 432x288 with 1 Axes>"
            ],
            "image/png": "[encoded data removed]"
          },
          "metadata": {
            "needs_background": "light"
          }
        }
      ]
    },
    {
      "cell_type": "code",
      "source": [
        "kmeans= KMeans(4)"
      ],
      "metadata": {
        "id": "CXcN-LXHFYcM"
      },
      "execution_count": null,
      "outputs": []
    },
    {
      "cell_type": "code",
      "source": [
        "kmeans.fit(transformed_data)"
      ],
      "metadata": {
        "colab": {
          "base_uri": "https://localhost:8080/"
        },
        "id": "PbLLmq2pFxNv",
        "outputId": "b3f1a39e-ddfd-4ad2-f11b-b624ed11e713"
      },
      "execution_count": null,
      "outputs": [
        {
          "output_type": "execute_result",
          "data": {
            "text/plain": [
              "KMeans(n_clusters=4)"
            ]
          },
          "metadata": {},
          "execution_count": 25
        }
      ]
    },
    {
      "cell_type": "code",
      "source": [
        "kmeans.labels_"
      ],
      "metadata": {
        "colab": {
          "base_uri": "https://localhost:8080/"
        },
        "id": "b7KDrUs4GYwR",
        "outputId": "61007b77-c890-4ca6-fccb-7f377303a55d"
      },
      "execution_count": null,
      "outputs": [
        {
          "output_type": "execute_result",
          "data": {
            "text/plain": [
              "array([2, 1, 0, ..., 0, 2, 2], dtype=int32)"
            ]
          },
          "metadata": {},
          "execution_count": 26
        }
      ]
    },
    {
      "cell_type": "code",
      "source": [
        "np.unique(kmeans.labels_)"
      ],
      "metadata": {
        "colab": {
          "base_uri": "https://localhost:8080/"
        },
        "id": "VI4KHq5AMlvP",
        "outputId": "9e7dcf24-9424-4566-8f67-488a46fa16cd"
      },
      "execution_count": null,
      "outputs": [
        {
          "output_type": "execute_result",
          "data": {
            "text/plain": [
              "array([0, 1, 2, 3], dtype=int32)"
            ]
          },
          "metadata": {},
          "execution_count": 27
        }
      ]
    },
    {
      "cell_type": "code",
      "source": [
        ""
      ],
      "metadata": {
        "id": "0zbXqjpvsWhD"
      },
      "execution_count": null,
      "outputs": []
    },
    {
      "cell_type": "markdown",
      "source": [
        "##Hierarchical Clustering"
      ],
      "metadata": {
        "id": "l0AsaBBAGmKi"
      }
    },
    {
      "cell_type": "code",
      "source": [
        "transformed_data[:,0:2].shape"
      ],
      "metadata": {
        "colab": {
          "base_uri": "https://localhost:8080/"
        },
        "id": "XLoEJCgxmkpJ",
        "outputId": "b9d94a04-948d-4c91-fff0-ae451f775c6b"
      },
      "execution_count": null,
      "outputs": [
        {
          "output_type": "execute_result",
          "data": {
            "text/plain": [
              "(8636, 2)"
            ]
          },
          "metadata": {},
          "execution_count": 61
        }
      ]
    },
    {
      "cell_type": "code",
      "source": [
        "#import scipy.cluster.hierarchy as shc\n",
        "\n",
        "#plt.title(\"Counters Dendograms\")\n",
        "#end = shc.dendrogram(shc.linkage(transformed_data , method='centroid',metric='euclidean'),orientation='top')\n",
        "# Dendogram for Heirarchical Clustering\n",
        "\n"
      ],
      "metadata": {
        "id": "_mNltcQ9yzrh"
      },
      "execution_count": null,
      "outputs": []
    },
    {
      "cell_type": "code",
      "source": [
        "ag = AgglomerativeClustering(4)\n",
        "ag.fit(transformed_data)"
      ],
      "metadata": {
        "colab": {
          "base_uri": "https://localhost:8080/"
        },
        "id": "AKmW9mY6H2WE",
        "outputId": "112c7eeb-5a11-4b29-aa05-417a4b1b8da7"
      },
      "execution_count": null,
      "outputs": [
        {
          "output_type": "execute_result",
          "data": {
            "text/plain": [
              "AgglomerativeClustering(n_clusters=4)"
            ]
          },
          "metadata": {},
          "execution_count": 111
        }
      ]
    },
    {
      "cell_type": "code",
      "source": [
        " ag.labels_"
      ],
      "metadata": {
        "colab": {
          "base_uri": "https://localhost:8080/"
        },
        "id": "wzj0M19OoOF-",
        "outputId": "7c8c4e8d-f14b-437b-b82a-3ebaa7c95fc5"
      },
      "execution_count": null,
      "outputs": [
        {
          "output_type": "execute_result",
          "data": {
            "text/plain": [
              "array([0, 0, 2, ..., 0, 0, 0])"
            ]
          },
          "metadata": {},
          "execution_count": 112
        }
      ]
    },
    {
      "cell_type": "code",
      "source": [
        "np.unique(ag.labels_)"
      ],
      "metadata": {
        "colab": {
          "base_uri": "https://localhost:8080/"
        },
        "id": "uYoZbVCZoPMn",
        "outputId": "cb07428f-f845-41fe-ef1a-d4be7425b552"
      },
      "execution_count": null,
      "outputs": [
        {
          "output_type": "execute_result",
          "data": {
            "text/plain": [
              "array([0, 1, 2, 3])"
            ]
          },
          "metadata": {},
          "execution_count": 113
        }
      ]
    },
    {
      "cell_type": "code",
      "source": [
        "print(silhouette_score(transformed_data, ag.labels_))"
      ],
      "metadata": {
        "colab": {
          "base_uri": "https://localhost:8080/"
        },
        "id": "m9EUs-PiT3jZ",
        "outputId": "ec34ca52-9b60-46c5-819c-91fb71ef1d7b"
      },
      "execution_count": null,
      "outputs": [
        {
          "output_type": "stream",
          "name": "stdout",
          "text": [
            "0.1661257045202557\n"
          ]
        }
      ]
    },
    {
      "cell_type": "code",
      "source": [
        "scores = []\n",
        "ks=[ x for x in range(3,13)] \n",
        "K = range(3,13)\n",
        "for k in K:\n",
        "    agmodel = AgglomerativeClustering(n_clusters=k)\n",
        "    agmodel.fit(transformed_data)\n",
        "    scores.append(silhouette_score(transformed_data, agmodel.labels_))"
      ],
      "metadata": {
        "id": "07LKd1NUaQQ7"
      },
      "execution_count": null,
      "outputs": []
    },
    {
      "cell_type": "code",
      "source": [
        "print(scores)"
      ],
      "metadata": {
        "colab": {
          "base_uri": "https://localhost:8080/"
        },
        "id": "irDEE2CWb1d8",
        "outputId": "9ec5ee30-7879-47a6-f8b8-5cb1f730fe30"
      },
      "execution_count": null,
      "outputs": [
        {
          "output_type": "stream",
          "name": "stdout",
          "text": [
            "[0.14491501934215772, 0.1661257045202557, 0.17492480758835577, 0.19919999259159976, 0.20313848859050923, 0.20591773951354023, 0.19912060945025423, 0.16675564344638674, 0.16914657739950723, 0.16274388935120015]\n"
          ]
        }
      ]
    },
    {
      "cell_type": "code",
      "source": [
        "print(max(scores))\n",
        "print(ks[scores.index(max(scores))])"
      ],
      "metadata": {
        "colab": {
          "base_uri": "https://localhost:8080/"
        },
        "id": "ND-5oC6ebNvW",
        "outputId": "64eb8a12-ca40-466b-ece6-0bc555f0ca4c"
      },
      "execution_count": null,
      "outputs": [
        {
          "output_type": "stream",
          "name": "stdout",
          "text": [
            "0.20591773951354023\n",
            "8\n"
          ]
        }
      ]
    },
    {
      "cell_type": "code",
      "source": [
        "ag8 = AgglomerativeClustering(8)\n",
        "ag8.fit(transformed_data)"
      ],
      "metadata": {
        "colab": {
          "base_uri": "https://localhost:8080/"
        },
        "id": "LybK8bn6b72R",
        "outputId": "851de10a-7a8f-407f-8d9d-a1115d5c6cb7"
      },
      "execution_count": null,
      "outputs": [
        {
          "output_type": "execute_result",
          "data": {
            "text/plain": [
              "AgglomerativeClustering(n_clusters=8)"
            ]
          },
          "metadata": {},
          "execution_count": 115
        }
      ]
    },
    {
      "cell_type": "markdown",
      "source": [
        "##DBSCAN"
      ],
      "metadata": {
        "id": "awgDTvMfH39o"
      }
    },
    {
      "cell_type": "markdown",
      "source": [
        "####trials"
      ],
      "metadata": {
        "id": "bMY53NfgOSaP"
      }
    },
    {
      "cell_type": "code",
      "source": [
        "dbscan = DBSCAN(eps=0.5, min_samples=4)\n",
        "dbscan.fit(transformed_data)"
      ],
      "metadata": {
        "colab": {
          "base_uri": "https://localhost:8080/"
        },
        "id": "XLBUZE_TH8z6",
        "outputId": "3a3d9510-bf4a-4749-ee72-3804d474e9c1"
      },
      "execution_count": null,
      "outputs": [
        {
          "output_type": "execute_result",
          "data": {
            "text/plain": [
              "DBSCAN(min_samples=4)"
            ]
          },
          "metadata": {},
          "execution_count": 39
        }
      ]
    },
    {
      "cell_type": "code",
      "source": [
        "dbscan.labels_"
      ],
      "metadata": {
        "colab": {
          "base_uri": "https://localhost:8080/"
        },
        "id": "WKc1KOfYIFHK",
        "outputId": "1e135909-df30-4d0f-c02f-6007d736a3d7"
      },
      "execution_count": null,
      "outputs": [
        {
          "output_type": "execute_result",
          "data": {
            "text/plain": [
              "array([ 0, -1,  0, ..., -1, -1, -1])"
            ]
          },
          "metadata": {},
          "execution_count": 40
        }
      ]
    },
    {
      "cell_type": "code",
      "source": [
        "np.unique(dbscan.labels_)"
      ],
      "metadata": {
        "colab": {
          "base_uri": "https://localhost:8080/"
        },
        "id": "HOiVCAxFZtFt",
        "outputId": "d332f028-6ed3-4a0f-8dd4-45f6a9aecf5b"
      },
      "execution_count": null,
      "outputs": [
        {
          "output_type": "execute_result",
          "data": {
            "text/plain": [
              "array([-1,  0,  1,  2,  3,  4,  5,  6,  7,  8,  9, 10, 11, 12, 13, 14, 15,\n",
              "       16, 17, 18, 19, 20, 21, 22, 23, 24, 25, 26, 27, 28, 29, 30, 31, 32,\n",
              "       33, 34, 35, 36, 37, 38, 39, 40, 41, 42, 43, 44, 45, 46, 47, 48, 49,\n",
              "       50, 51, 52, 53, 54, 55, 56, 57])"
            ]
          },
          "metadata": {},
          "execution_count": 41
        }
      ]
    },
    {
      "cell_type": "code",
      "source": [
        "dbscan = DBSCAN(eps=2, min_samples=4)\n",
        "dbscan.fit(transformed_data)"
      ],
      "metadata": {
        "colab": {
          "base_uri": "https://localhost:8080/"
        },
        "id": "5f4BPW0pIJcx",
        "outputId": "a9b769f4-bc12-4ebc-c66c-6437a5c009f7"
      },
      "execution_count": null,
      "outputs": [
        {
          "output_type": "execute_result",
          "data": {
            "text/plain": [
              "DBSCAN(eps=2, min_samples=4)"
            ]
          },
          "metadata": {},
          "execution_count": 42
        }
      ]
    },
    {
      "cell_type": "code",
      "source": [
        "dbscan.labels_"
      ],
      "metadata": {
        "colab": {
          "base_uri": "https://localhost:8080/"
        },
        "id": "Fcdpy2NQIY1Z",
        "outputId": "5ae72b96-7cb8-4c45-b7ce-282874d38dad"
      },
      "execution_count": null,
      "outputs": [
        {
          "output_type": "execute_result",
          "data": {
            "text/plain": [
              "array([0, 0, 0, ..., 0, 0, 0])"
            ]
          },
          "metadata": {},
          "execution_count": 43
        }
      ]
    },
    {
      "cell_type": "code",
      "source": [
        "np.unique(dbscan.labels_)"
      ],
      "metadata": {
        "colab": {
          "base_uri": "https://localhost:8080/"
        },
        "id": "DoNX0-7fItQJ",
        "outputId": "01ddff59-757f-4fa0-fb56-73c6b99875d5"
      },
      "execution_count": null,
      "outputs": [
        {
          "output_type": "execute_result",
          "data": {
            "text/plain": [
              "array([-1,  0,  1,  2])"
            ]
          },
          "metadata": {},
          "execution_count": 44
        }
      ]
    },
    {
      "cell_type": "markdown",
      "source": [
        "####based on technique"
      ],
      "metadata": {
        "id": "bQ4DvJliOcI-"
      }
    },
    {
      "cell_type": "markdown",
      "source": [
        "- MinPts = 2*dim \n",
        "- eps (as neighborhood radius) and minPts (as minimum neighbors to consider a point as core point)"
      ],
      "metadata": {
        "id": "Ca8CDCcODra-"
      }
    },
    {
      "cell_type": "code",
      "source": [
        "min_samp=  9*2"
      ],
      "metadata": {
        "id": "0WpjH7PYEWTy"
      },
      "execution_count": null,
      "outputs": []
    },
    {
      "cell_type": "code",
      "source": [
        "neighbors = NearestNeighbors(n_neighbors=min_samp)\n",
        "neighbors_fit = neighbors.fit(transformed_data)\n",
        "distances, indices = neighbors_fit.kneighbors(transformed_data)"
      ],
      "metadata": {
        "id": "q3c4DWLJZd8h"
      },
      "execution_count": null,
      "outputs": []
    },
    {
      "cell_type": "code",
      "source": [
        "distances = np.sort(distances, axis=0)\n",
        "distances = distances[:,1]\n",
        "plt.plot(distances)"
      ],
      "metadata": {
        "colab": {
          "base_uri": "https://localhost:8080/",
          "height": 282
        },
        "id": "5V494JF9lWnU",
        "outputId": "8a6233b3-6d83-4fee-bfa6-00d0cc5b00cf"
      },
      "execution_count": null,
      "outputs": [
        {
          "output_type": "execute_result",
          "data": {
            "text/plain": [
              "[<matplotlib.lines.Line2D at 0x7fac50825b90>]"
            ]
          },
          "metadata": {},
          "execution_count": 72
        },
        {
          "output_type": "display_data",
          "data": {
            "text/plain": [
              "<Figure size 432x288 with 1 Axes>"
            ],
            "image/png": "[encoded data removed]"
          },
          "metadata": {
            "needs_background": "light"
          }
        }
      ]
    },
    {
      "cell_type": "code",
      "source": [
        "dbscan3 = DBSCAN(eps=3, min_samples=min_samp)\n",
        "dbscan3.fit(transformed_data)"
      ],
      "metadata": {
        "colab": {
          "base_uri": "https://localhost:8080/"
        },
        "id": "b9L38opjlV-N",
        "outputId": "6515cf16-c601-4ade-d668-259da4db2358"
      },
      "execution_count": null,
      "outputs": [
        {
          "output_type": "execute_result",
          "data": {
            "text/plain": [
              "DBSCAN(eps=3, min_samples=18)"
            ]
          },
          "metadata": {},
          "execution_count": 77
        }
      ]
    },
    {
      "cell_type": "code",
      "source": [
        "print(silhouette_score(transformed_data, dbscan3.labels_))"
      ],
      "metadata": {
        "colab": {
          "base_uri": "https://localhost:8080/"
        },
        "id": "Ayqjj9YbNHvS",
        "outputId": "8dcd2ea0-0e89-4be7-9575-1f19cc181ab8"
      },
      "execution_count": null,
      "outputs": [
        {
          "output_type": "stream",
          "name": "stdout",
          "text": [
            "0.665828554992459\n"
          ]
        }
      ]
    },
    {
      "cell_type": "code",
      "source": [
        "dbscan4 = DBSCAN(eps=4, min_samples=min_samp)\n",
        "dbscan4.fit(transformed_data)"
      ],
      "metadata": {
        "colab": {
          "base_uri": "https://localhost:8080/"
        },
        "id": "HRpxhrnvLhV8",
        "outputId": "fb7b199f-f853-4713-f17e-16166b1382dd"
      },
      "execution_count": null,
      "outputs": [
        {
          "output_type": "execute_result",
          "data": {
            "text/plain": [
              "DBSCAN(eps=4, min_samples=18)"
            ]
          },
          "metadata": {},
          "execution_count": 79
        }
      ]
    },
    {
      "cell_type": "code",
      "source": [
        "print(silhouette_score(transformed_data, dbscan4.labels_))"
      ],
      "metadata": {
        "colab": {
          "base_uri": "https://localhost:8080/"
        },
        "id": "D1B3skF_NRB8",
        "outputId": "99b2634b-bb60-4aa1-c80e-ca6cc8316a8e"
      },
      "execution_count": null,
      "outputs": [
        {
          "output_type": "stream",
          "name": "stdout",
          "text": [
            "0.735488385092389\n"
          ]
        }
      ]
    },
    {
      "cell_type": "markdown",
      "source": [
        "#####aanother trials"
      ],
      "metadata": {
        "id": "iJYFQquVPbWF"
      }
    },
    {
      "cell_type": "code",
      "source": [
        "dbscan5 = DBSCAN(eps=5, min_samples=min_samp)\n",
        "dbscan5.fit(transformed_data)\n",
        "print(silhouette_score(transformed_data, dbscan5.labels_))"
      ],
      "metadata": {
        "colab": {
          "base_uri": "https://localhost:8080/"
        },
        "id": "ATH-wkTTO-87",
        "outputId": "f28abc9c-ea27-4fc7-ac2b-800812eb75b6"
      },
      "execution_count": null,
      "outputs": [
        {
          "output_type": "stream",
          "name": "stdout",
          "text": [
            "0.7720177262323973\n"
          ]
        }
      ]
    },
    {
      "cell_type": "code",
      "source": [
        "dbscan6 = DBSCAN(eps=6, min_samples=min_samp)\n",
        "dbscan6.fit(transformed_data)\n",
        "print(silhouette_score(transformed_data, dbscan6.labels_))"
      ],
      "metadata": {
        "colab": {
          "base_uri": "https://localhost:8080/"
        },
        "id": "z6ffK461PF0e",
        "outputId": "6bcdbbb4-c573-45d8-bfd8-c3ec1805ca2d"
      },
      "execution_count": null,
      "outputs": [
        {
          "output_type": "stream",
          "name": "stdout",
          "text": [
            "0.794326029310858\n"
          ]
        }
      ]
    },
    {
      "cell_type": "code",
      "source": [
        "dbscan10 = DBSCAN(eps=10, min_samples=min_samp)\n",
        "dbscan10.fit(transformed_data)\n",
        "print(silhouette_score(transformed_data, dbscan10.labels_))"
      ],
      "metadata": {
        "colab": {
          "base_uri": "https://localhost:8080/"
        },
        "id": "CWOqhVJ3PNoQ",
        "outputId": "14875bd7-1513-404d-a61b-8c1bda90fd56"
      },
      "execution_count": null,
      "outputs": [
        {
          "output_type": "stream",
          "name": "stdout",
          "text": [
            "0.8456824683925604\n"
          ]
        }
      ]
    },
    {
      "cell_type": "markdown",
      "source": [
        "##GMM"
      ],
      "metadata": {
        "id": "dkWCrS-UNSHD"
      }
    },
    {
      "cell_type": "markdown",
      "source": [
        "###Grid search"
      ],
      "metadata": {
        "id": "dfiYxwcwi1AW"
      }
    },
    {
      "cell_type": "code",
      "source": [
        "parameters = { 'n_components':[1, 7]}\n",
        "gm = GaussianMixture()\n",
        "clf = GridSearchCV(gm, parameters)\n",
        "clf.fit(transformed_data)"
      ],
      "metadata": {
        "colab": {
          "base_uri": "https://localhost:8080/"
        },
        "id": "ekL3XFahNTbS",
        "outputId": "d7bbd610-47d4-42b9-9981-b89b30a4e26d"
      },
      "execution_count": null,
      "outputs": [
        {
          "output_type": "execute_result",
          "data": {
            "text/plain": [
              "GridSearchCV(estimator=GaussianMixture(), param_grid={'n_components': [1, 7]})"
            ]
          },
          "metadata": {},
          "execution_count": 123
        }
      ]
    },
    {
      "cell_type": "code",
      "source": [
        "clf.best_params_"
      ],
      "metadata": {
        "colab": {
          "base_uri": "https://localhost:8080/"
        },
        "id": "Q0xd_IQiN5AR",
        "outputId": "f7e48b8d-f7be-402d-9cc9-68cb871209e7"
      },
      "execution_count": null,
      "outputs": [
        {
          "output_type": "execute_result",
          "data": {
            "text/plain": [
              "{'n_components': 7}"
            ]
          },
          "metadata": {},
          "execution_count": 124
        }
      ]
    },
    {
      "cell_type": "code",
      "source": [
        "gm = GaussianMixture(n_components=7)\n",
        "gm.fit(transformed_data)"
      ],
      "metadata": {
        "colab": {
          "base_uri": "https://localhost:8080/"
        },
        "id": "OmE_s7f42TC1",
        "outputId": "85a15aba-d68e-4559-9b32-bd109e49989d"
      },
      "execution_count": null,
      "outputs": [
        {
          "output_type": "execute_result",
          "data": {
            "text/plain": [
              "GaussianMixture(n_components=7)"
            ]
          },
          "metadata": {},
          "execution_count": 126
        }
      ]
    },
    {
      "cell_type": "code",
      "source": [
        "preds = gm.predict(transformed_data)\n",
        "score = silhouette_score(transformed_data, preds)\n",
        "print(score)"
      ],
      "metadata": {
        "colab": {
          "base_uri": "https://localhost:8080/"
        },
        "id": "lIRv_PiSTjwj",
        "outputId": "0db3f8e4-ff77-495d-a88d-4c5ae14da192"
      },
      "execution_count": null,
      "outputs": [
        {
          "output_type": "stream",
          "name": "stdout",
          "text": [
            "0.02664535314257607\n"
          ]
        }
      ]
    },
    {
      "cell_type": "markdown",
      "source": [
        "### by maximizing silhouette_score"
      ],
      "metadata": {
        "id": "lxWjw_Iji6ZN"
      }
    },
    {
      "cell_type": "code",
      "source": [
        "scores = []\n",
        "ks=[ x for x in range(3,13)] \n",
        "K = range(3,13)\n",
        "for k in K:\n",
        "    gmodel = GaussianMixture(n_components=k)\n",
        "    gmodel.fit(transformed_data)\n",
        "    scores.append(silhouette_score(transformed_data,gmodel.predict(transformed_data)))"
      ],
      "metadata": {
        "id": "R01ZEJDUiLlg"
      },
      "execution_count": null,
      "outputs": []
    },
    {
      "cell_type": "code",
      "source": [
        "print(scores)"
      ],
      "metadata": {
        "colab": {
          "base_uri": "https://localhost:8080/"
        },
        "id": "3xK6AFddizon",
        "outputId": "825b1221-86cb-43fe-967d-0bc87efa25cc"
      },
      "execution_count": null,
      "outputs": [
        {
          "output_type": "stream",
          "name": "stdout",
          "text": [
            "[0.1194577492809967, 0.07715268005656266, 0.06384518973481108, 0.0535374723432886, 0.005702232784128935, -0.0020657914983931666, -0.0025179554606737384, 0.0008025900539337524, 0.0077574003671038476, 0.012790299163324382]\n"
          ]
        }
      ]
    },
    {
      "cell_type": "code",
      "source": [
        "print(max(scores))\n",
        "print(ks[scores.index(max(scores))])"
      ],
      "metadata": {
        "colab": {
          "base_uri": "https://localhost:8080/"
        },
        "id": "QbXyp4aJiSS_",
        "outputId": "5553240e-af0b-4d22-b935-d972e2f2555c"
      },
      "execution_count": null,
      "outputs": [
        {
          "output_type": "stream",
          "name": "stdout",
          "text": [
            "0.1194577492809967\n",
            "3\n"
          ]
        }
      ]
    },
    {
      "cell_type": "code",
      "source": [
        "gmodel3 = GaussianMixture(n_components=3)\n",
        "gmodel3.fit(transformed_data)"
      ],
      "metadata": {
        "colab": {
          "base_uri": "https://localhost:8080/"
        },
        "id": "cgypb5ydjILo",
        "outputId": "2b2fbb09-8b42-48aa-f098-7dd6e71d8ba0"
      },
      "execution_count": null,
      "outputs": [
        {
          "output_type": "execute_result",
          "data": {
            "text/plain": [
              "GaussianMixture(n_components=3)"
            ]
          },
          "metadata": {},
          "execution_count": 130
        }
      ]
    },
    {
      "cell_type": "markdown",
      "source": [
        "##silhouette score"
      ],
      "metadata": {
        "id": "VzypNFj52TrA"
      }
    },
    {
      "cell_type": "code",
      "source": [
        "preds = kmeans.predict(transformed_data)\n",
        "score = silhouette_score(transformed_data, preds)\n",
        "print(\"silhouette score using kmeans is {}\".format(score))\n",
        "\n",
        "preds = gmodel3.predict(transformed_data)\n",
        "score = silhouette_score(transformed_data, preds)\n",
        "print(\"silhouette score using GaussianMixture is {}\".format(score))\n",
        "\n",
        "\n",
        "score = silhouette_score(transformed_data, ag8.labels_)\n",
        "print(\"silhouette score using AgglomerativeClustering is {}\".format(score))\n",
        "\n",
        "score = silhouette_score(transformed_data, dbscan4.labels_)\n",
        "print(\"silhouette score using dbscan is {}\".format(score))"
      ],
      "metadata": {
        "colab": {
          "base_uri": "https://localhost:8080/"
        },
        "id": "y8LItYJf2e5I",
        "outputId": "dbe1f99c-c0e4-461d-b950-ff8009dafb8a"
      },
      "execution_count": null,
      "outputs": [
        {
          "output_type": "stream",
          "name": "stdout",
          "text": [
            "silhouette score using kmeans is 0.22627735035014748\n",
            "silhouette score using GaussianMixture is 0.12849684371062198\n",
            "silhouette score using AgglomerativeClustering is 0.20591773951354023\n",
            "silhouette score using dbscan is 0.735488385092389\n"
          ]
        }
      ]
    }
  ]
}